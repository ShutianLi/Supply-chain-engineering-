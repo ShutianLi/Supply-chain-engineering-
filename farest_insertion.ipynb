{
 "cells": [
  {
   "cell_type": "code",
   "execution_count": 37,
   "metadata": {},
   "outputs": [],
   "source": [
    "import math \n",
    "import numpy as np "
   ]
  },
  {
   "cell_type": "code",
   "execution_count": 38,
   "metadata": {},
   "outputs": [
    {
     "name": "stdout",
     "output_type": "stream",
     "text": [
      "[1, 2, 3, 4, 5, 6, 7, 8, 9, 10]\n",
      "[1]\n"
     ]
    }
   ],
   "source": [
    "N = [1,2,3,4,5,6,7,8,9,10]\n",
    "points = [(8.1,1.6),(8.9,9.7),(1.3,9.6),(9.1,4.9),(6.3,8.0),(1.0,1.4),(2.8,4.2),(5.5,9.2),(9.6,7.9),(9.6,9.2)]\n",
    "l = len(N)\n",
    "tour = [1]\n",
    "print(N)\n",
    "print(tour)\n",
    "edges = [] \n",
    "cond  = True "
   ]
  },
  {
   "cell_type": "code",
   "execution_count": 39,
   "metadata": {},
   "outputs": [],
   "source": [
    "#define the distance of point i and j \n",
    "def cal_distance(i,j):\n",
    "    delta_x = np.square(points[i-1][0]-points[j-1][0])\n",
    "    delta_y = np.square(points[i-1][1]-points[j-1][1])\n",
    "    dis = np.sqrt(delta_x+delta_y)\n",
    "    return dis"
   ]
  },
  {
   "cell_type": "code",
   "execution_count": 40,
   "metadata": {},
   "outputs": [],
   "source": [
    "#define the function to calculate the distance between ijk \n",
    "def cal_merit(i,j,k):\n",
    "    c_ik = cal_distance(i,k)\n",
    "    c_kj = cal_distance(k,j)\n",
    "    c_ij = cal_distance(i,j)\n",
    "    delta_ijk = c_ik+c_kj-c_ij\n",
    "    return delta_ijk"
   ]
  },
  {
   "cell_type": "code",
   "execution_count": 41,
   "metadata": {},
   "outputs": [
    {
     "name": "stdout",
     "output_type": "stream",
     "text": [
      "tour [1, 3, 4, 6, 10, 7, 2, 8, 9, 5]\n",
      "edges [(1, 4), (6, 1), (3, 7), (7, 6), (10, 2), (8, 3), (4, 9), (9, 10), (2, 5), (5, 8)]\n"
     ]
    }
   ],
   "source": [
    "while cond: \n",
    "    l_tour = len(tour)\n",
    "    l_edges = len(edges)\n",
    "    dif = list(set(N)-set(tour))\n",
    "    l_dif = len(dif)\n",
    "    min_ijk = 100\n",
    "    merit   = {}\n",
    "    c_k  =  {}\n",
    "    max_ck = -100\n",
    "    \n",
    "    #choose k into the tour (the farest one to one of the nodes in the tour )\n",
    "    for k in range(l_dif):\n",
    "        for m in range(l_tour):\n",
    "            c_k[dif[k]]=np.min(cal_distance(tour[m],dif[k]))\n",
    "                \n",
    "    for k,v in c_k.items():\n",
    "        if v>max_ck:\n",
    "            max_ck = v \n",
    "            node_k = k\n",
    "            \n",
    "    \n",
    "    if l_tour == 1:   #(if there is only one node in the tour,add it directly)\n",
    "        edges.append((tour[0],node_k))\n",
    "        edges.append((node_k,tour[0]))\n",
    "        \n",
    "    else: #(choose which arc to remove)\n",
    "        copy_edges = edges.copy()\n",
    "        \n",
    "        for e in range(l_edges):  #calculate the delta_ijk \n",
    "            temp_i = copy_edges[e][0]\n",
    "            temp_j = copy_edges[e][1]\n",
    "            merit[(temp_i,temp_j,node_k)] = cal_merit(temp_i,temp_j,node_k)\n",
    "            \n",
    "        for key,value in merit.items():  #get the minimal value of delta_ijk \n",
    "            if value<min_ijk:\n",
    "                min_ijk = value\n",
    "                bar_i   = key[0]\n",
    "                bar_j   = key[1]\n",
    "         \n",
    "        #remove edges and add edges \n",
    "        edges.remove ((bar_i,bar_j))\n",
    "        edges.append((bar_i,node_k))\n",
    "        edges.append((node_k,bar_j))\n",
    "    \n",
    "    tour.append(node_k)\n",
    "    \n",
    "    if set(tour)==set(N):\n",
    "        cond=False \n",
    "\n",
    "print('tour',tour)\n",
    "print('edges',edges)\n",
    "    "
   ]
  },
  {
   "cell_type": "code",
   "execution_count": 36,
   "metadata": {},
   "outputs": [
    {
     "name": "stdout",
     "output_type": "stream",
     "text": [
      "33.45341401323128\n"
     ]
    }
   ],
   "source": [
    "#calculate the distance of the tour \n",
    "sum_distance = 0\n",
    "for edge in edges:\n",
    "    sum_distance += cal_distance(edge[0],edge[1])\n",
    "print(sum_distance)"
   ]
  },
  {
   "cell_type": "code",
   "execution_count": null,
   "metadata": {},
   "outputs": [],
   "source": []
  }
 ],
 "metadata": {
  "kernelspec": {
   "display_name": "Python 3",
   "language": "python",
   "name": "python3"
  },
  "language_info": {
   "codemirror_mode": {
    "name": "ipython",
    "version": 3
   },
   "file_extension": ".py",
   "mimetype": "text/x-python",
   "name": "python",
   "nbconvert_exporter": "python",
   "pygments_lexer": "ipython3",
   "version": "3.7.3"
  }
 },
 "nbformat": 4,
 "nbformat_minor": 4
}
